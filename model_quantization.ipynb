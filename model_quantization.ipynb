{
 "cells": [
  {
   "cell_type": "markdown",
   "id": "1d61ae18-1b91-4381-8b3e-de1422c5a0bb",
   "metadata": {},
   "source": [
    "# Import Reuqirements"
   ]
  },
  {
   "cell_type": "code",
   "execution_count": 1,
   "id": "c1ab9fc2-ea9e-42c5-a342-ad0b4fd1b24c",
   "metadata": {},
   "outputs": [],
   "source": [
    "import tensorflow as tf\n",
    "import numpy as np\n",
    "from sklearn.metrics import confusion_matrix, precision_score, recall_score, f1_score\n",
    "import os\n",
    "import matplotlib.pyplot as plt\n",
    "import cv2"
   ]
  },
  {
   "cell_type": "markdown",
   "id": "ebc9dbfa-91f0-4de0-8d18-05ecef2dc106",
   "metadata": {},
   "source": [
    "# Load Data"
   ]
  },
  {
   "cell_type": "code",
   "execution_count": 2,
   "id": "46953557-cb9a-4496-817a-7470ccba83fc",
   "metadata": {},
   "outputs": [
    {
     "name": "stdout",
     "output_type": "stream",
     "text": [
      "Veri seti şekli: (445, 256, 256, 6), Mask shape: (445, 256, 256, 1)\n"
     ]
    }
   ],
   "source": [
    "#  Data Paths\n",
    "DATA_PATH_TRAIN = \"LEVIR CD/train\" \n",
    "DATA_PATH_VAL = \"LEVIR CD/val\"\n",
    "DATA_PATH_TEST = \"LEVIR CD/test\"\n",
    "\n",
    "# Image Size\n",
    "IMG_SIZE = 256  # reducing the size depends on model\n",
    "\n",
    "# Data load functions \n",
    "def load_image(path, size=IMG_SIZE):\n",
    "    img = cv2.imread(path)\n",
    "    img = cv2.cvtColor(img, cv2.COLOR_BGR2RGB)  \n",
    "    img = cv2.resize(img, (size, size))\n",
    "    img = img / 255.0  # Normalize\n",
    "    return img\n",
    "\n",
    "def load_mask(path, size=IMG_SIZE):\n",
    "    mask = cv2.imread(path, cv2.IMREAD_GRAYSCALE)  \n",
    "    mask = cv2.resize(mask, (size, size))\n",
    "    mask = mask / 255.0\n",
    "    mask = np.expand_dims(mask, axis=-1)  # (H,W,1)\n",
    "    return mask\n",
    "\n",
    "def create_dataset(data_path, size=IMG_SIZE, max_samples=500):\n",
    "    A_path = os.path.join(data_path, \"A\")\n",
    "    B_path = os.path.join(data_path, \"B\")\n",
    "    label_path = os.path.join(data_path, \"label\")\n",
    "\n",
    "    images = []\n",
    "    masks = []\n",
    "\n",
    "    file_names = os.listdir(A_path)[:max_samples]\n",
    "\n",
    "    for fname in file_names:\n",
    "        imgA = load_image(os.path.join(A_path, fname), size)\n",
    "        imgB = load_image(os.path.join(B_path, fname), size)\n",
    "        mask = load_mask(os.path.join(label_path, fname), size)\n",
    "\n",
    "        # İki görüntüyü yan yana kanal olarak birleştir (6 kanal)\n",
    "        img = np.concatenate([imgA, imgB], axis=-1)  # (H,W,6)\n",
    "\n",
    "        images.append(img)\n",
    "        masks.append(mask)\n",
    "\n",
    "    images = np.array(images, dtype=np.float32)\n",
    "    masks = np.array(masks, dtype=np.float32)\n",
    "\n",
    "    return images, masks\n",
    "\n",
    "# Load Data\n",
    "X_train,Y_train = create_dataset(DATA_PATH_TRAIN)\n",
    "X_val,Y_val = create_dataset(DATA_PATH_VAL)\n",
    "X_test,Y_test = create_dataset(DATA_PATH_TEST)\n",
    "print(f\"Veri seti şekli: {X_train.shape}, Mask shape: {Y_train.shape}\")"
   ]
  },
  {
   "cell_type": "markdown",
   "id": "75da1544-f12b-40fb-b046-fbbaa3e5b1f7",
   "metadata": {},
   "source": [
    "#### Custom model metrics"
   ]
  },
  {
   "cell_type": "code",
   "execution_count": 3,
   "id": "00044307-1940-4dbf-911b-2c6cedab33da",
   "metadata": {},
   "outputs": [],
   "source": [
    "# This is a performance metric used to evaluate the accuracy of annotation, segmentation, and object detection algorithms.\n",
    "def iou_metric(y_true, y_pred, smooth=1e-6):\n",
    "    y_pred = K.cast(y_pred > 0.5, 'float32')\n",
    "    intersection = K.sum(y_true * y_pred)\n",
    "    union = K.sum(y_true) + K.sum(y_pred) - intersection\n",
    "    return (intersection + smooth) / (union + smooth)"
   ]
  },
  {
   "cell_type": "markdown",
   "id": "7abefcf1-366f-4cee-91da-55f3630f0198",
   "metadata": {},
   "source": [
    "# Quantization"
   ]
  },
  {
   "cell_type": "code",
   "execution_count": 4,
   "id": "04ad74a7-68bb-4751-8887-91ea3f4f2c6c",
   "metadata": {},
   "outputs": [
    {
     "name": "stderr",
     "output_type": "stream",
     "text": [
      "WARNING:absl:Found untraced functions such as _jit_compiled_convolution_op, _jit_compiled_convolution_op, _jit_compiled_convolution_op, _jit_compiled_convolution_op, _jit_compiled_convolution_op while saving (showing 5 of 5). These functions will not be directly callable after loading.\n"
     ]
    },
    {
     "name": "stdout",
     "output_type": "stream",
     "text": [
      "INFO:tensorflow:Assets written to: C:\\Users\\HITASK~1\\AppData\\Local\\Temp\\tmpe5xbv0is\\assets\n"
     ]
    },
    {
     "name": "stderr",
     "output_type": "stream",
     "text": [
      "INFO:tensorflow:Assets written to: C:\\Users\\HITASK~1\\AppData\\Local\\Temp\\tmpe5xbv0is\\assets\n",
      "C:\\Users\\hitaskomur\\anaconda3\\envs\\tensorflow\\lib\\site-packages\\tensorflow\\lite\\python\\convert.py:766: UserWarning: Statistics for quantized inputs were expected, but not specified; continuing anyway.\n",
      "  warnings.warn(\"Statistics for quantized inputs were expected, but not \"\n"
     ]
    }
   ],
   "source": [
    "# Load main model\n",
    "model = tf.keras.models.load_model(\"main_model.h5\", custom_objects={'iou_metric': iou_metric})\n",
    "\n",
    "# Converter Object\n",
    "converter = tf.lite.TFLiteConverter.from_keras_model(model)\n",
    "\n",
    "# Opening settings that Post-training quantization\n",
    "converter.optimizations = [tf.lite.Optimize.DEFAULT]\n",
    "\n",
    "# We can Feed the process with some data for more correct quantization\n",
    "def representative_dataset():\n",
    "    for i in range(100):  \n",
    "        yield [X_train[i:i+1].astype(\"float32\")]\n",
    "\n",
    "converter.representative_dataset = representative_dataset\n",
    "\n",
    "# Creating quantized model\n",
    "tflite_model = converter.convert()\n",
    "\n",
    "# Saving model\n",
    "with open(\"main_model_quantized.tflite\", \"wb\") as f:\n",
    "    f.write(tflite_model)"
   ]
  },
  {
   "cell_type": "code",
   "execution_count": 5,
   "id": "634bc07b-6992-41bb-a760-423d08c98af1",
   "metadata": {},
   "outputs": [],
   "source": [
    "# Loading quantized model(Tflite)\n",
    "interpreter = tf.lite.Interpreter(model_path=\"main_model_quantized.tflite\")\n",
    "interpreter.allocate_tensors()\n",
    "\n",
    "# Get details\n",
    "input_details = interpreter.get_input_details()\n",
    "output_details = interpreter.get_output_details()\n",
    "\n",
    "input_shape = input_details[0]['shape']\n",
    "\n",
    "# Using test data(10) for testing model\n",
    "num_samples = 10\n",
    "y_preds = []\n",
    "y_trues = []\n",
    "\n",
    "for i in range(num_samples):\n",
    "    input_data = X_test[i:i+1].astype(np.float32)\n",
    "    \n",
    "    interpreter.set_tensor(input_details[0]['index'], input_data)\n",
    "    interpreter.invoke()\n",
    "    \n",
    "    output_data = interpreter.get_tensor(output_details[0]['index'])\n",
    "    \n",
    "    y_preds.append((output_data > 0.5).astype(np.uint8))\n",
    "    y_trues.append((Y_test[i:i+1] > 0.5).astype(np.uint8))"
   ]
  },
  {
   "cell_type": "code",
   "execution_count": 6,
   "id": "976624d1-bb58-4127-bce2-adba10aa2dbb",
   "metadata": {},
   "outputs": [
    {
     "name": "stdout",
     "output_type": "stream",
     "text": [
      "Confusion Matrix:\n",
      " [[617665   5372]\n",
      " [  8889  23434]]\n",
      "Precision: 0.8135110740817885\n",
      "Recall:    0.7249945858985861\n",
      "F1 Score:  0.766706473196028\n"
     ]
    }
   ],
   "source": [
    "# Flatten\n",
    "y_pred_flat = np.concatenate(y_preds).flatten()\n",
    "y_true_flat = np.concatenate(y_trues).flatten()\n",
    "\n",
    "# Confusion matrix and metrics\n",
    "cm = confusion_matrix(y_true_flat, y_pred_flat)\n",
    "print(\"Confusion Matrix:\\n\", cm)\n",
    "\n",
    "print(\"Precision:\", precision_score(y_true_flat, y_pred_flat))\n",
    "print(\"Recall:   \", recall_score(y_true_flat, y_pred_flat))\n",
    "print(\"F1 Score: \", f1_score(y_true_flat, y_pred_flat))"
   ]
  },
  {
   "cell_type": "code",
   "execution_count": 7,
   "id": "04a1c589-f16b-4da7-8e82-40c63df47c5f",
   "metadata": {},
   "outputs": [
    {
     "name": "stdout",
     "output_type": "stream",
     "text": [
      "1/1 [==============================] - 0s 411ms/step\n"
     ]
    }
   ],
   "source": [
    "# Loading Main Model\n",
    "model = tf.keras.models.load_model(\"main_model.h5\", custom_objects={'iou_metric': iou_metric})\n",
    "\n",
    "y_preds_h5 = (model.predict(X_test[:num_samples]) > 0.5).astype(np.uint8)\n",
    "y_trues_h5 = (Y_test[:num_samples] > 0.5).astype(np.uint8)\n",
    "\n",
    "# Flatten\n",
    "y_pred_flat_h5 = y_preds_h5.flatten()\n",
    "y_true_flat_h5 = y_trues_h5.flatten()\n",
    "\n",
    "# Define Paths\n",
    "h5_path = \"main_model.h5\"\n",
    "tflite_path = \"main_model_quantized.tflite\"\n",
    "\n",
    "# Boyutları al\n",
    "h5_size = os.path.getsize(h5_path) / 1024 / 1024  # MB\n",
    "tflite_size = os.path.getsize(tflite_path) / 1024 / 1024  # MB\n"
   ]
  },
  {
   "cell_type": "code",
   "execution_count": 8,
   "id": "0fcc52e5-a1c0-4955-9246-63ddbda743a6",
   "metadata": {},
   "outputs": [
    {
     "name": "stdout",
     "output_type": "stream",
     "text": [
      "🔷 Keras Model:\n",
      "Precision: 0.8032324182655153\n",
      "Recall:    0.7395662531324444\n",
      "F1 Score:  0.7700856903550028\n",
      "\n",
      "🔸 Quantized TFLite Model:\n",
      "Precision: 0.8135110740817885\n",
      "Recall:    0.7249945858985861\n",
      "F1 Score:  0.766706473196028\n"
     ]
    },
    {
     "data": {
      "image/png": "[encoded data removed]",
      "text/plain": [
       "<Figure size 640x480 with 1 Axes>"
      ]
     },
     "metadata": {},
     "output_type": "display_data"
    },
    {
     "name": "stdout",
     "output_type": "stream",
     "text": [
      "H5 Model Size:     0.92 MB\n",
      "TFLite Quantized Model Size: 0.08 MB\n",
      "\n",
      "Quantizing Rate:    11.16 times smaller\n"
     ]
    }
   ],
   "source": [
    "print(\"🔷 Keras Model:\")\n",
    "print(\"Precision:\", precision_score(y_true_flat_h5, y_pred_flat_h5))\n",
    "print(\"Recall:   \", recall_score(y_true_flat_h5, y_pred_flat_h5))\n",
    "print(\"F1 Score: \", f1_score(y_true_flat_h5, y_pred_flat_h5))\n",
    "\n",
    "print(\"\\n🔸 Quantized TFLite Model:\")\n",
    "print(\"Precision:\", precision_score(y_true_flat, y_pred_flat))\n",
    "print(\"Recall:   \", recall_score(y_true_flat, y_pred_flat))\n",
    "print(\"F1 Score: \", f1_score(y_true_flat, y_pred_flat))\n",
    "\n",
    "\n",
    "sizes = [h5_size, tflite_size]\n",
    "labels = ['.h5 Model', 'Quantized .tflite']\n",
    "\n",
    "plt.bar(labels, sizes, color=['skyblue', 'salmon'])\n",
    "plt.ylabel('Size (MB)')\n",
    "plt.title('Comparing Model Sizes')\n",
    "plt.grid(True, axis='y')\n",
    "plt.show()\n",
    "\n",
    "\n",
    "print(f\"H5 Model Size:     {h5_size:.2f} MB\")\n",
    "print(f\"TFLite Quantized Model Size: {tflite_size:.2f} MB\")\n",
    "\n",
    "print(f\"\\nQuantizing Rate:    {h5_size / tflite_size:.2f} times smaller\")"
   ]
  },
  {
   "cell_type": "code",
   "execution_count": null,
   "id": "b4c71bea-a86e-4592-bc55-38f15760c708",
   "metadata": {},
   "outputs": [],
   "source": []
  }
 ],
 "metadata": {
  "kernelspec": {
   "display_name": "Python 3 (ipykernel)",
   "language": "python",
   "name": "python3"
  },
  "language_info": {
   "codemirror_mode": {
    "name": "ipython",
    "version": 3
   },
   "file_extension": ".py",
   "mimetype": "text/x-python",
   "name": "python",
   "nbconvert_exporter": "python",
   "pygments_lexer": "ipython3",
   "version": "3.10.13"
  }
 },
 "nbformat": 4,
 "nbformat_minor": 5
}
